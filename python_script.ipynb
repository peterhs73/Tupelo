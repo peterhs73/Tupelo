{
 "cells": [
  {
   "cell_type": "code",
   "execution_count": 2,
   "metadata": {},
   "outputs": [],
   "source": [
    "import os\n",
    "import json\n",
    "\n",
    "with open('user/user_info.json', 'r') as user_input:\n",
    "    notebooks = json.load(user_input)"
   ]
  },
  {
   "cell_type": "code",
   "execution_count": 6,
   "metadata": {},
   "outputs": [
    {
     "data": {
      "text/plain": [
       "{'dst_folder': '/Users/petersun/Desktop/sd',\n",
       " 'dst_url': 'file:///Users/petersun/Desktop/sd/index.html',\n",
       " 'nickname': 'First',\n",
       " 'src_folder': '/Users/petersun/Desktop/Coding'}"
      ]
     },
     "execution_count": 6,
     "metadata": {},
     "output_type": "execute_result"
    }
   ],
   "source": [
    "notebooks"
   ]
  },
  {
   "cell_type": "code",
   "execution_count": 5,
   "metadata": {},
   "outputs": [
    {
     "name": "stdout",
     "output_type": "stream",
     "text": [
      "{'src_folder': '/Users/petersun/Desktop/Coding', 'dst_folder': '/Users/petersun/Desktop/sd', 'nickname': 'First', 'dst_url': 'file:///Users/petersun/Desktop/sd/index.html'}\n",
      "{'src_folder': '/Users/petersun/Desktop/Coding', 'dst_folder': '/Users/petersun/Desktop/sd', 'nickname': 'First', 'dst_url': 'file:///Users/petersun/Desktop/sd/index.html'}\n",
      "{'src_folder': '/Users/petersun/Desktop/Coding', 'dst_folder': '/Users/petersun/Desktop/sd', 'nickname': 'First', 'dst_url': 'file:///Users/petersun/Desktop/sd/index.html'}\n",
      "{'src_folder': '/Users/petersun/Desktop/Coding', 'dst_folder': '/Users/petersun/Desktop/sd', 'nickname': 'First', 'dst_url': 'file:///Users/petersun/Desktop/sd/index.html'}\n"
     ]
    }
   ],
   "source": [
    "for notes in notebooks:\n",
    "    print(notebooks)"
   ]
  },
  {
   "cell_type": "code",
   "execution_count": 13,
   "metadata": {
    "collapsed": true
   },
   "outputs": [],
   "source": [
    "a = [notebooks, {\"wut\": 2}]"
   ]
  },
  {
   "cell_type": "code",
   "execution_count": 12,
   "metadata": {
    "collapsed": true
   },
   "outputs": [],
   "source": [
    "b = [{'wut': 2}, {'wute'}]"
   ]
  },
  {
   "cell_type": "code",
   "execution_count": 10,
   "metadata": {},
   "outputs": [
    {
     "ename": "TypeError",
     "evalue": "unhashable type: 'dict'",
     "output_type": "error",
     "traceback": [
      "\u001b[0;31m---------------------------------------------------------------------------\u001b[0m",
      "\u001b[0;31mTypeError\u001b[0m                                 Traceback (most recent call last)",
      "\u001b[0;32m<ipython-input-10-1251dc15fe3e>\u001b[0m in \u001b[0;36m<module>\u001b[0;34m()\u001b[0m\n\u001b[0;32m----> 1\u001b[0;31m \u001b[0mset\u001b[0m\u001b[0;34m(\u001b[0m\u001b[0ma\u001b[0m\u001b[0;34m)\u001b[0m\u001b[0;34m.\u001b[0m\u001b[0mdifference\u001b[0m\u001b[0;34m(\u001b[0m\u001b[0mset\u001b[0m\u001b[0;34m(\u001b[0m\u001b[0mb\u001b[0m\u001b[0;34m)\u001b[0m\u001b[0;34m)\u001b[0m\u001b[0;34m\u001b[0m\u001b[0m\n\u001b[0m",
      "\u001b[0;31mTypeError\u001b[0m: unhashable type: 'dict'"
     ]
    }
   ],
   "source": [
    "set(a).difference(set(b))"
   ]
  },
  {
   "cell_type": "code",
   "execution_count": 16,
   "metadata": {},
   "outputs": [
    {
     "name": "stdout",
     "output_type": "stream",
     "text": [
      "{'wut': 2}\n"
     ]
    }
   ],
   "source": [
    "for items in a:\n",
    "    if items in b:\n",
    "        print(items)"
   ]
  },
  {
   "cell_type": "code",
   "execution_count": null,
   "metadata": {
    "collapsed": true
   },
   "outputs": [],
   "source": []
  }
 ],
 "metadata": {
  "kernelspec": {
   "display_name": "Python 3",
   "language": "python",
   "name": "python3"
  },
  "language_info": {
   "codemirror_mode": {
    "name": "ipython",
    "version": 3
   },
   "file_extension": ".py",
   "mimetype": "text/x-python",
   "name": "python",
   "nbconvert_exporter": "python",
   "pygments_lexer": "ipython3",
   "version": "3.6.0"
  }
 },
 "nbformat": 4,
 "nbformat_minor": 2
}

{
 "cells": [
  {
   "cell_type": "code",
   "execution_count": 32,
   "metadata": {
    "collapsed": true
   },
   "outputs": [],
   "source": [
    "from tupelo_custom import file_grab, index_gen\n",
    "import os\n",
    "from pathlib import Path"
   ]
  },
  {
   "cell_type": "code",
   "execution_count": 2,
   "metadata": {
    "collapsed": true
   },
   "outputs": [],
   "source": [
    "# Linux\n",
    "ORI_FOLDER  = '/home/petersun/Desktop/Coding_test'\n",
    "DST_FOLDER = '/home/petersun/Desktop/Tupelo_Code'\n",
    "ORI_FOLDER  = '/home/petersun/Dropbox'\n",
    "TUPELO_FOLDER = '/home/petersun/Dropbox/Tupelo'\n",
    "\n",
    "FILETYPES = ['**/*.md', '**/*.rst']"
   ]
  },
  {
   "cell_type": "code",
   "execution_count": 1,
   "metadata": {
    "collapsed": true
   },
   "outputs": [],
   "source": [
    "# Mac\n",
    "ORI_FOLDER  = '/Users/petersun/Desktop/C|oding'\n",
    "ORI_FOLDER  = '/Users/petersun/Desktop/Coding'\n",
    "DST_FOLDER = '/Users/petersun/Desktop/Tupelo_Code'\n",
    "TUPELO_FOLDER = '/Users/petersun/Dropbox/Tupelo'\n",
    "\n",
    "FILETYPES = ['**/*.md', '**/*.rst']"
   ]
  },
  {
   "cell_type": "code",
   "execution_count": 3,
   "metadata": {
    "collapsed": true
   },
   "outputs": [],
   "source": [
    "log = file_grab(FILETYPES, ORI_FOLDER)"
   ]
  },
  {
   "cell_type": "code",
   "execution_count": 23,
   "metadata": {
    "collapsed": true
   },
   "outputs": [],
   "source": [
    "filelog_new = {\"Last Update\": datetime.utcnow().strftime(TIME_FORMAT)} #create new log files for file update\n",
    "\n",
    "for path in file_pathes: # add modification time for the content files\n",
    "    filelog_new[path] = datetime.utcfromtimestamp(os.path.getmtime(path)).strftime(TIME_FORMAT)\n",
    "filelog_path = os.path.join(DST_FOLDER,'file_log.json') # writes log files "
   ]
  },
  {
   "cell_type": "code",
   "execution_count": 19,
   "metadata": {
    "collapsed": true
   },
   "outputs": [],
   "source": []
  },
  {
   "cell_type": "code",
   "execution_count": 6,
   "metadata": {
    "collapsed": true
   },
   "outputs": [],
   "source": [
    "a = index_gen(ORI_FOLDER, log)   "
   ]
  },
  {
   "cell_type": "code",
   "execution_count": 7,
   "metadata": {},
   "outputs": [
    {
     "data": {
      "text/plain": [
       "{'Main': [('/Users/petersun/Desktop/Coding/OtherCode.md', '2017-11-02 17:01')],\n",
       " 'Python': [('/Users/petersun/Desktop/Coding/Python/Cookbook_Notes.md',\n",
       "   '2017-11-15 23:24')],\n",
       " 'coding_notes': [('/Users/petersun/Desktop/Coding/coding_notes/qt_notes.md',\n",
       "   '2017-10-22 16:57'),\n",
       "  ('/Users/petersun/Desktop/Coding/coding_notes/Git_Protocal.md',\n",
       "   '2017-09-19 23:05'),\n",
       "  ('/Users/petersun/Desktop/Coding/coding_notes/Python_Notes.md',\n",
       "   '2017-09-10 06:20'),\n",
       "  ('/Users/petersun/Desktop/Coding/coding_notes/MatPlotLib.md',\n",
       "   '2017-08-18 01:02'),\n",
       "  ('/Users/petersun/Desktop/Coding/coding_notes/Latex_Guide.md',\n",
       "   '2017-04-13 17:07'),\n",
       "  ('/Users/petersun/Desktop/Coding/coding_notes/Pandas_Cheat_Sheet.md',\n",
       "   '2017-04-13 17:07'),\n",
       "  ('/Users/petersun/Desktop/Coding/coding_notes/Mathematica_Guide.md',\n",
       "   '2017-04-13 17:07'),\n",
       "  ('/Users/petersun/Desktop/Coding/coding_notes/Arduino_Notes.md',\n",
       "   '2017-04-13 17:07')]}"
      ]
     },
     "execution_count": 7,
     "metadata": {},
     "output_type": "execute_result"
    }
   ],
   "source": [
    "a"
   ]
  },
  {
   "cell_type": "code",
   "execution_count": 124,
   "metadata": {},
   "outputs": [
    {
     "name": "stdout",
     "output_type": "stream",
     "text": [
      "7.12 ms ± 598 µs per loop (mean ± std. dev. of 7 runs, 100 loops each)\n"
     ]
    }
   ],
   "source": [
    "%%timeit\n",
    "from jinja2 import Environment, FileSystemLoader\n",
    "\n",
    "NAV = \"\"\"\n",
    "<header class=\"header\">\n",
    "<nav class=\"nav\">\n",
    "  <ul class=\"nav-links\">\n",
    "  {% for key in temp.keys() %}\n",
    "  <li><a href=\"index.html/#nav\">{{key}}</a></li>\n",
    "  {% for ite in temp[key] %}\n",
    "  <p>{{key}}</p>\n",
    "  <p>title: {{ite[0]}}</p>\n",
    "  <p>last update: {{ite[1]}}</p>\n",
    "  {% endfor %}\n",
    "  {% endfor %}\n",
    "  <li><a class = \"sidenav_pt\" onclick=\"openNav()\">&#9776;</a></li>\n",
    "  </ul>\n",
    "</nav>\n",
    "</header>\n",
    "\"\"\"\n",
    "\n",
    "# use sorted\n",
    "env = Environment()\n",
    "p = env.from_string(NAV).render(temp = ac)\n",
    "with open('wut.html','w') as wut:\n",
    "    wut.write(p)\n"
   ]
  },
  {
   "cell_type": "code",
   "execution_count": 118,
   "metadata": {
    "collapsed": true
   },
   "outputs": [],
   "source": [
    "def index_gen(folder_path, file_log):\n",
    "\n",
    "    \"\"\"Create the index files based on the file_logs\n",
    "    Takes approx. 1.3 ms to generate\n",
    "    \"\"\"\n",
    "\n",
    "    doc_first_level = os.listdir(folder_path)\n",
    "    doc_tree = {}\n",
    "    log = file_log.copy()\n",
    "    for path in doc_first_level:\n",
    "        dir_path = os.path.join(folder_path, path)\n",
    "        if os.path.isdir(dir_path):\n",
    "            file_list = []\n",
    "            for key, value in file_log.items():\n",
    "                if key.startswith(dir_path):\n",
    "                    file_list.append((key,value))\n",
    "                    log.pop(key)\n",
    "            if len(file_list) >0:\n",
    "                doc_tree[path] = sorted(file_list, key=lambda f: f[1], reverse = True)\n",
    "    if len(log) > 0:\n",
    "        doc_tree['Main'] = sorted(list(log.items()), key = lambda f: f[1], reverse = True)\n",
    "    return doc_tree"
   ]
  },
  {
   "cell_type": "code",
   "execution_count": 26,
   "metadata": {},
   "outputs": [
    {
     "data": {
      "text/plain": [
       "'/Users/petersun/Dropbox/Tueplo/templates'"
      ]
     },
     "execution_count": 26,
     "metadata": {},
     "output_type": "execute_result"
    }
   ],
   "source": [
    "os.path.join(TUPELO_FOLDER, 'templates')"
   ]
  },
  {
   "cell_type": "code",
   "execution_count": 29,
   "metadata": {},
   "outputs": [
    {
     "name": "stdout",
     "output_type": "stream",
     "text": [
      "12.1 ms ± 327 µs per loop (mean ± std. dev. of 7 runs, 100 loops each)\n"
     ]
    }
   ],
   "source": [
    "%%timeit\n",
    "import os\n",
    "from jinja2 import Environment, FileSystemLoader\n",
    "\n",
    "TEMPLATE_ENVIRONMENT = Environment(\n",
    "    loader=FileSystemLoader(os.path.join(TUPELO_FOLDER, 'templates')),\n",
    ")\n",
    "\n",
    "def render_template(template_filename, context):\n",
    "    return TEMPLATE_ENVIRONMENT.get_template(template_filename).render(context)\n",
    "\n",
    "p = {'file_info': a, 'baseurl':'index.html'}\n",
    "\n",
    "with open(os.path.join(TUPELO_FOLDER,'index.html'),'w') as wut:\n",
    "    wut.write(render_template('index_temp.html',p))"
   ]
  },
  {
   "cell_type": "code",
   "execution_count": 19,
   "metadata": {},
   "outputs": [
    {
     "name": "stdout",
     "output_type": "stream",
     "text": [
      "[('/Users/petersun/Desktop/Coding/Python/Cookbook_Notes.md', '2017-11-15 23:24')]\n",
      "[('/Users/petersun/Desktop/Coding/coding_notes/qt_notes.md', '2017-10-22 16:57'), ('/Users/petersun/Desktop/Coding/coding_notes/Git_Protocal.md', '2017-09-19 23:05'), ('/Users/petersun/Desktop/Coding/coding_notes/Python_Notes.md', '2017-09-10 06:20'), ('/Users/petersun/Desktop/Coding/coding_notes/MatPlotLib.md', '2017-08-18 01:02'), ('/Users/petersun/Desktop/Coding/coding_notes/Latex_Guide.md', '2017-04-13 17:07'), ('/Users/petersun/Desktop/Coding/coding_notes/Pandas_Cheat_Sheet.md', '2017-04-13 17:07'), ('/Users/petersun/Desktop/Coding/coding_notes/Mathematica_Guide.md', '2017-04-13 17:07'), ('/Users/petersun/Desktop/Coding/coding_notes/Arduino_Notes.md', '2017-04-13 17:07')]\n",
      "[('/Users/petersun/Desktop/Coding/OtherCode.md', '2017-11-02 17:01')]\n"
     ]
    }
   ],
   "source": [
    "TEMPLATE_ENVIRONMENT = Environment(\n",
    "    loader=FileSystemLoader(os.path.join(TUPELO_FOLDER, 'templates')),\n",
    ")\n",
    "\n",
    "def render_template(template_filename, context):\n",
    "    return TEMPLATE_ENVIRONMENT.get_template(template_filename).render(context)\n",
    "\n",
    "p = {'file_info': a, 'baseurl':'index.html'}\n",
    "\n",
    "with open(os.path.join(TUPELO_FOLDER,'index.html'),'w') as wut:\n",
    "    wut.write(render_template('index_temp.html',p))"
   ]
  },
  {
   "cell_type": "code",
   "execution_count": null,
   "metadata": {
    "collapsed": true
   },
   "outputs": [],
   "source": [
    "def file_mod_transfer(file_path, file_mod, dst_folder_path, dst_coyote_path): \n",
    "    content_file_path = os.path.relpath(file_path, dst_folder_path)\n",
    "    content_path, content_files = os.path.split(content_file_path)\n",
    "    file_name, file_ext = os.path.splitext(content_files)\n",
    "    if file_name.lower() == 'readme':\n",
    "        file_name = os.path.basename(content_path) + \"_\" + \"readme\"\n",
    "    coyote_file_path = os.path.join(dst_coyote_path, 'content' , content_path, file_name + '_coyote' + file_ext) # Temperally fix, might need to look into\n",
    "\n",
    "    file_title = file_name.replace(\"_\",\" \").title() # adaed capitalization\n",
    "    # configure the read me option \n",
    "    with open(file_path) as original_file:\n",
    "        metafile = \"+++\\n\" + titlename + \"\\n\" + filelastmod + \"\\n\" + \"+++\\n\" + original_file.read()\n",
    "    os.makedirs(os.path.dirname(coyote_file_path), exist_ok = True) \n",
    "    print('check' + os.path.dirname(coyote_file_path))# some folders might be unnecessary, when parse outside files, this can be fixed\n",
    "\n",
    "    with open(coyote_file_path, 'w+') as modified:\n",
    "        modified.write(metafile)"
   ]
  },
  {
   "cell_type": "code",
   "execution_count": 36,
   "metadata": {
    "collapsed": true
   },
   "outputs": [],
   "source": [
    "## this function is used just to clean the underscore and change it change to Capital Words.\n",
    "\n",
    "def name_clean(file_name):\n",
    "    return file_name.replace(\"_\",\" \").title()\n",
    "\n",
    "app = '/Users/petersun/Desktop/Coding/coding_notes/qt_notes.md'"
   ]
  },
  {
   "cell_type": "code",
   "execution_count": 37,
   "metadata": {},
   "outputs": [
    {
     "data": {
      "text/plain": [
       "'Qt Notes.Md'"
      ]
     },
     "execution_count": 37,
     "metadata": {},
     "output_type": "execute_result"
    }
   ],
   "source": [
    "name_clean(os.path.basename(app))"
   ]
  },
  {
   "cell_type": "code",
   "execution_count": 42,
   "metadata": {
    "collapsed": true
   },
   "outputs": [],
   "source": [
    "def filepath_mod(file_path, ori_folder, dst_folder):\n",
    "    # clean off the path and print out the correct name\n",
    "    file_rel = os.path.relpath(file_path, ori_folder)\n",
    "    \n",
    "    file_dir, file_base = os.path.split(file_rel) # seprate to path and file\n",
    "    file_name, file_ext = os.path.splitext(file_base)\n",
    "    if file_name.lower() == 'readme':\n",
    "        file_name = os.path.basename(file_dir) + \"_\" + \"README\"\n",
    "    \n",
    "    file_title = name_clean(file_name)\n",
    "    # add the dst name for html files and add tupelo to the end.\n",
    "    dst_path = os.path.join(dst_folder, file_dir, 'tupelo_' + file_name + '.html') # Temperally fix, might need to look into\n",
    "    return (file_title, dst_path)"
   ]
  },
  {
   "cell_type": "code",
   "execution_count": 43,
   "metadata": {},
   "outputs": [
    {
     "data": {
      "text/plain": [
       "('Qt Notes',\n",
       " 'Users/petersun/Desktop/Tupelo_Code/coding_notes/tupelo_qt_notes.html')"
      ]
     },
     "execution_count": 43,
     "metadata": {},
     "output_type": "execute_result"
    }
   ],
   "source": [
    "filepath_mod(app, ORI_FOLDER, DST_FOLDER)"
   ]
  },
  {
   "cell_type": "code",
   "execution_count": 3,
   "metadata": {},
   "outputs": [],
   "source": [
    "from tupelo_files import DocIndex"
   ]
  },
  {
   "cell_type": "code",
   "execution_count": 4,
   "metadata": {},
   "outputs": [],
   "source": [
    "from tupelo_custom import _category_gen\n",
    "cat_list = _category_gen(ORI_FOLDER)"
   ]
  },
  {
   "cell_type": "code",
   "execution_count": 5,
   "metadata": {},
   "outputs": [
    {
     "data": {
      "text/plain": [
       "('Python', 'coding_notes')"
      ]
     },
     "execution_count": 5,
     "metadata": {},
     "output_type": "execute_result"
    }
   ],
   "source": [
    "tuple(cat_list)"
   ]
  },
  {
   "cell_type": "code",
   "execution_count": 6,
   "metadata": {},
   "outputs": [],
   "source": [
    "from glob import glob\n",
    "import os\n",
    "FILETYPES = ['**/*.md', '**/*.rst']\n",
    "file_list = []\n",
    "for File_Ext in FILETYPES:\n",
    "    for DOC_PATH in glob(os.path.join(ORI_FOLDER,File_Ext), recursive = True):\n",
    "        file_list.append(vars(DocIndex(DOC_PATH, ORI_FOLDER, DST_FOLDER, cat_list)))"
   ]
  },
  {
   "cell_type": "code",
   "execution_count": 7,
   "metadata": {},
   "outputs": [
    {
     "data": {
      "text/plain": [
       "[{'category': 'Main',\n",
       "  'doc_dst': '/Users/petersun/Desktop/Tupelo_Code/tupelo_OtherCode.html',\n",
       "  'time': '2017-11-02 17:01',\n",
       "  'title': 'Othercode'},\n",
       " {'category': 'Python',\n",
       "  'doc_dst': '/Users/petersun/Desktop/Tupelo_Code/Python/tupelo_Cookbook_Notes.html',\n",
       "  'time': '2017-11-15 23:24',\n",
       "  'title': 'Cookbook Notes'},\n",
       " {'category': 'Coding Notes',\n",
       "  'doc_dst': '/Users/petersun/Desktop/Tupelo_Code/coding_notes/tupelo_qt_notes.html',\n",
       "  'time': '2017-10-22 16:57',\n",
       "  'title': 'Qt Notes'},\n",
       " {'category': 'Coding Notes',\n",
       "  'doc_dst': '/Users/petersun/Desktop/Tupelo_Code/coding_notes/tupelo_Latex_Guide.html',\n",
       "  'time': '2017-04-13 17:07',\n",
       "  'title': 'Latex Guide'},\n",
       " {'category': 'Coding Notes',\n",
       "  'doc_dst': '/Users/petersun/Desktop/Tupelo_Code/coding_notes/tupelo_Pandas_Cheat_Sheet.html',\n",
       "  'time': '2017-04-13 17:07',\n",
       "  'title': 'Pandas Cheat Sheet'},\n",
       " {'category': 'Coding Notes',\n",
       "  'doc_dst': '/Users/petersun/Desktop/Tupelo_Code/coding_notes/tupelo_Python_Notes.html',\n",
       "  'time': '2017-09-10 06:20',\n",
       "  'title': 'Python Notes'},\n",
       " {'category': 'Coding Notes',\n",
       "  'doc_dst': '/Users/petersun/Desktop/Tupelo_Code/coding_notes/tupelo_MatPlotLib.html',\n",
       "  'time': '2017-08-18 01:02',\n",
       "  'title': 'Matplotlib'},\n",
       " {'category': 'Coding Notes',\n",
       "  'doc_dst': '/Users/petersun/Desktop/Tupelo_Code/coding_notes/tupelo_Mathematica_Guide.html',\n",
       "  'time': '2017-04-13 17:07',\n",
       "  'title': 'Mathematica Guide'},\n",
       " {'category': 'Coding Notes',\n",
       "  'doc_dst': '/Users/petersun/Desktop/Tupelo_Code/coding_notes/tupelo_Arduino_Notes.html',\n",
       "  'time': '2017-04-13 17:07',\n",
       "  'title': 'Arduino Notes'},\n",
       " {'category': 'Coding Notes',\n",
       "  'doc_dst': '/Users/petersun/Desktop/Tupelo_Code/coding_notes/tupelo_Git_Protocal.html',\n",
       "  'time': '2017-09-19 23:05',\n",
       "  'title': 'Git Protocal'}]"
      ]
     },
     "execution_count": 7,
     "metadata": {},
     "output_type": "execute_result"
    }
   ],
   "source": [
    "file_list"
   ]
  },
  {
   "cell_type": "code",
   "execution_count": 8,
   "metadata": {
    "collapsed": true
   },
   "outputs": [],
   "source": [
    "def sort_time(doc):\n",
    "    return doc['time']"
   ]
  },
  {
   "cell_type": "code",
   "execution_count": 9,
   "metadata": {},
   "outputs": [],
   "source": [
    "ppp = sorted(file_list, key = sort_time, reverse = True)"
   ]
  },
  {
   "cell_type": "code",
   "execution_count": 14,
   "metadata": {},
   "outputs": [],
   "source": [
    "ast = {}"
   ]
  },
  {
   "cell_type": "code",
   "execution_count": 27,
   "metadata": {},
   "outputs": [
    {
     "name": "stdout",
     "output_type": "stream",
     "text": [
      "Python\n",
      "True\n",
      "Main\n",
      "True\n",
      "Coding Notes\n",
      "True\n",
      "Coding Notes\n",
      "True\n",
      "Coding Notes\n",
      "True\n",
      "Coding Notes\n",
      "True\n",
      "Coding Notes\n",
      "True\n",
      "Coding Notes\n",
      "True\n",
      "Coding Notes\n",
      "True\n",
      "Coding Notes\n",
      "True\n"
     ]
    }
   ],
   "source": [
    "for items in ppp:\n",
    "    cat = items['category']\n",
    "    print(cat)\n",
    "    print(cat in ast)\n",
    "    if items['category'] not in ast:\n",
    "        ast[items['category']] = [items]\n",
    "        print(ast)\n",
    "    else:\n",
    "        ast[items['category']].append(items)"
   ]
  },
  {
   "cell_type": "code",
   "execution_count": 24,
   "metadata": {},
   "outputs": [],
   "source": [
    "ast['Main'].append({'wut'})"
   ]
  },
  {
   "cell_type": "code",
   "execution_count": 31,
   "metadata": {},
   "outputs": [
    {
     "name": "stdout",
     "output_type": "stream",
     "text": [
      "('Python', [{'time': '2017-11-15 23:24', 'title': 'Cookbook Notes', 'doc_dst': '/Users/petersun/Desktop/Tupelo_Code/Python/tupelo_Cookbook_Notes.html', 'category': 'Python'}, {'time': '2017-11-15 23:24', 'title': 'Cookbook Notes', 'doc_dst': '/Users/petersun/Desktop/Tupelo_Code/Python/tupelo_Cookbook_Notes.html', 'category': 'Python'}])\n",
      "('Main', [{'time': '2017-11-02 17:01', 'title': 'Othercode', 'doc_dst': '/Users/petersun/Desktop/Tupelo_Code/tupelo_OtherCode.html', 'category': 'Main'}, {'wut'}, {'time': '2017-11-02 17:01', 'title': 'Othercode', 'doc_dst': '/Users/petersun/Desktop/Tupelo_Code/tupelo_OtherCode.html', 'category': 'Main'}])\n",
      "('Coding Notes', [{'time': '2017-04-13 17:07', 'title': 'Arduino Notes', 'doc_dst': '/Users/petersun/Desktop/Tupelo_Code/coding_notes/tupelo_Arduino_Notes.html', 'category': 'Coding Notes'}, {'time': '2017-10-22 16:57', 'title': 'Qt Notes', 'doc_dst': '/Users/petersun/Desktop/Tupelo_Code/coding_notes/tupelo_qt_notes.html', 'category': 'Coding Notes'}, {'time': '2017-09-19 23:05', 'title': 'Git Protocal', 'doc_dst': '/Users/petersun/Desktop/Tupelo_Code/coding_notes/tupelo_Git_Protocal.html', 'category': 'Coding Notes'}, {'time': '2017-09-10 06:20', 'title': 'Python Notes', 'doc_dst': '/Users/petersun/Desktop/Tupelo_Code/coding_notes/tupelo_Python_Notes.html', 'category': 'Coding Notes'}, {'time': '2017-08-18 01:02', 'title': 'Matplotlib', 'doc_dst': '/Users/petersun/Desktop/Tupelo_Code/coding_notes/tupelo_MatPlotLib.html', 'category': 'Coding Notes'}, {'time': '2017-04-13 17:07', 'title': 'Latex Guide', 'doc_dst': '/Users/petersun/Desktop/Tupelo_Code/coding_notes/tupelo_Latex_Guide.html', 'category': 'Coding Notes'}, {'time': '2017-04-13 17:07', 'title': 'Pandas Cheat Sheet', 'doc_dst': '/Users/petersun/Desktop/Tupelo_Code/coding_notes/tupelo_Pandas_Cheat_Sheet.html', 'category': 'Coding Notes'}, {'time': '2017-04-13 17:07', 'title': 'Mathematica Guide', 'doc_dst': '/Users/petersun/Desktop/Tupelo_Code/coding_notes/tupelo_Mathematica_Guide.html', 'category': 'Coding Notes'}, {'time': '2017-04-13 17:07', 'title': 'Arduino Notes', 'doc_dst': '/Users/petersun/Desktop/Tupelo_Code/coding_notes/tupelo_Arduino_Notes.html', 'category': 'Coding Notes'}])\n"
     ]
    }
   ],
   "source": [
    "for items in ast.items():\n",
    "    print(items)"
   ]
  },
  {
   "cell_type": "code",
   "execution_count": 33,
   "metadata": {},
   "outputs": [],
   "source": [
    "import pypandoc"
   ]
  },
  {
   "cell_type": "code",
   "execution_count": 54,
   "metadata": {},
   "outputs": [
    {
     "data": {
      "text/plain": [
       "''"
      ]
     },
     "execution_count": 54,
     "metadata": {},
     "output_type": "execute_result"
    }
   ],
   "source": [
    "pypandoc.convert_file('/Users/petersun/Desktop/rt.md','html', extra_args = ['--template=/Users/petersun/Desktop/pan_temp.html', '--toc', '-M', 'date=wuwuwu'], outputfile = '/Users/petersun/Desktop/wutrt.html')"
   ]
  },
  {
   "cell_type": "code",
   "execution_count": 42,
   "metadata": {},
   "outputs": [
    {
     "data": {
      "text/plain": [
       "'<!DOCTYPE html>\\n<html xmlns=\"http://www.w3.org/1999/xhtml\" lang=\"\" xml:lang=\"\">\\n\\n<head>\\n  <meta charset=\"utf-8\" />\\n  <meta name=\"generator\" content=\"pandoc\" />\\n  <meta name=\"viewport\" content=\"width=device-width, initial-scale=1.0, user-scalable=yes\" />\\n  \\n         <title></title>\\n  <style type=\"text/css\">\\n      code{white-space: pre-wrap;}\\n      span.smallcaps{font-variant: small-caps;}\\n      div.line-block{white-space: pre-line;}\\n      div.column{display: inline-block; vertical-align: top; width: 50%;}\\n        </style>\\n\\n  <script type=\"text/javascript\" async src=\"js/MathJax2.7.2/MathJax.js\"></script>\\n  <link rel=\"stylesheet\" href=\"css/googlefonts.css\">\\n  <link rel=\"stylesheet\" href=\"css/default.css\" media=\"all\">\\n  <link rel=\"stylesheet\" href=\"css/highlight-atelier-cave-light.css\">\\n  <script src=\"js/highlight.pack.js\"></script>\\n  <script>hljs.initHighlightingOnLoad();</script>\\n</head>\\n\\n  <script>\\n    function openNav() {\\n        document.getElementById(\"mySidenav\").style.width = \"25%\";\\n        // document.getElementById(\"main\").style.marginLeft = \"0%\";\\n    }\\n\\n    function closeNav() {\\n        document.getElementById(\"mySidenav\").style.width = \"0\";\\n        // document.getElementById(\"main\").style.marginLeft= \"0\";\\n    }\\n  </script>\\n\\n<body>\\n  <button onclick=\"topFunction()\" id=\"toTop\" title=\"Go to top\">Top</button>\\n  <div class=\"wrapper\">\\n\\n   <header class=\"header\">\\n    <nav class=\"nav\">\\n      <ul class=\"nav-links\">\\n      \\n      <li><a href=\"index.html#Python\">Python</a></li>\\n      \\n      <li><a href=\"index.html#coding_notes\">coding_notes</a></li>\\n      \\n      <li><a href=\"index.html#Main\">Main</a></li>\\n      \\n      <li><a class = \"sidenav_pt\" onclick=\"openNav()\">&#9776;</a></li>\\n      </ul>\\n    </nav>\\n  </header>\\n\\n\\n\\n<main class=\"content\" role=\"main\">\\n\\n<article class=\"article\" onclick = \"closeNav()\">\\n  \\n    \\n    \\n    \\n    \\n    \\n        <br>\\n    \\n    <div class=\"article-content\">\\n      <h1 id=\"coding-notes\">Coding Notes</h1>\\n      <h2 id=\"creating-gif\">Creating Gif</h2>\\n      <ul>\\n      <li><code>imageio</code> <a href=\"http://imageio.github.io/\">package</a></li>\\n      </ul>\\n    </div>\\n</article>\\n</main>\\n\\n    <script src=\"js/scrollsTop.js\"></script>\\n    <footer class=\"footer\">\\n        <span>Cogito ergo sum.</span>\\n    </footer>\\n  </div>\\n</body>\\n</html>'"
      ]
     },
     "execution_count": 42,
     "metadata": {},
     "output_type": "execute_result"
    }
   ],
   "source": [
    "output"
   ]
  },
  {
   "cell_type": "code",
   "execution_count": null,
   "metadata": {
    "collapsed": true
   },
   "outputs": [],
   "source": [
    "pandoc -s --template /home/petersun/Desktop/wut_2.html -o sun.html /home/petersun/Dropbox/Ocelot/Sun-20171018.rst"
   ]
  }
 ],
 "metadata": {
  "kernelspec": {
   "display_name": "Python 3",
   "language": "python",
   "name": "python3"
  },
  "language_info": {
   "codemirror_mode": {
    "name": "ipython",
    "version": 3
   },
   "file_extension": ".py",
   "mimetype": "text/x-python",
   "name": "python",
   "nbconvert_exporter": "python",
   "pygments_lexer": "ipython3",
   "version": "3.5.2"
  }
 },
 "nbformat": 4,
 "nbformat_minor": 2
}
